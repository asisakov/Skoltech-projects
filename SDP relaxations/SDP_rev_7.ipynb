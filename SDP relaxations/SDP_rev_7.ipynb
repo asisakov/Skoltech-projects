{
 "cells": [
  {
   "cell_type": "code",
   "execution_count": 2,
   "metadata": {
    "scrolled": true
   },
   "outputs": [
    {
     "name": "stderr",
     "output_type": "stream",
     "text": [
      "\u001b[1m\u001b[36mINFO: \u001b[39m\u001b[22m\u001b[36mRecompiling stale cache file /mnt/juliabox/.julia/lib/v0.6/SCS.ji for module SCS.\n",
      "\u001b[39m"
     ]
    }
   ],
   "source": [
    "using DataFrames, CSV, DataArrays, JuMP, SCS"
   ]
  },
  {
   "cell_type": "code",
   "execution_count": 4,
   "metadata": {},
   "outputs": [
    {
     "data": {
      "text/html": [
       "<table class=\"data-frame\"><thead><tr><th></th><th>x2</th><th>startup</th><th>shutdown</th><th>n</th><th>c2</th><th>c1</th><th>c0</th></tr></thead><tbody><tr><th>1</th><td>2</td><td>1500</td><td>0</td><td>3</td><td>0.11</td><td>5.0</td><td>0</td></tr><tr><th>2</th><td>2</td><td>2000</td><td>0</td><td>3</td><td>0.085</td><td>1.2</td><td>0</td></tr><tr><th>3</th><td>2</td><td>3000</td><td>0</td><td>3</td><td>0.1225</td><td>1.0</td><td>0</td></tr></tbody></table>"
      ],
      "text/plain": [
       "3×7 DataFrames.DataFrame\n",
       "│ Row │ x2 │ startup │ shutdown │ n │ c2     │ c1  │ c0 │\n",
       "├─────┼────┼─────────┼──────────┼───┼────────┼─────┼────┤\n",
       "│ 1   │ 2  │ 1500    │ 0        │ 3 │ 0.11   │ 5.0 │ 0  │\n",
       "│ 2   │ 2  │ 2000    │ 0        │ 3 │ 0.085  │ 1.2 │ 0  │\n",
       "│ 3   │ 2  │ 3000    │ 0        │ 3 │ 0.1225 │ 1.0 │ 0  │"
      ]
     },
     "execution_count": 4,
     "metadata": {},
     "output_type": "execute_result"
    }
   ],
   "source": [
    "GenData = readtable(\"gen_3.csv\")\n",
    "BusData = readtable(\"bus_3.csv\")\n",
    "BranchData = readtable(\"branch_3.csv\")\n",
    "Gen_cost = readtable(\"gencost_3.csv\")"
   ]
  },
  {
   "cell_type": "code",
   "execution_count": 5,
   "metadata": {},
   "outputs": [
    {
     "data": {
      "text/plain": [
       "ybus (generic function with 1 method)"
      ]
     },
     "execution_count": 5,
     "metadata": {},
     "output_type": "execute_result"
    }
   ],
   "source": [
    "# Function for the admittance matrix of the network\n",
    "\n",
    "function ybus(BusData, BranchData)\n",
    "    \n",
    "    # Y = 1/Z\n",
    "    BranchData[:z] = BranchData[:r] + im*BranchData[:x]\n",
    "    BranchData[:y] = 1 ./BranchData[:z]\n",
    "    \n",
    "    # Numbers of lines and buses\n",
    "    NLines = size(BranchData,1)\n",
    "    NBuses = size(BusData,1)\n",
    "    \n",
    "    # Creating Admittance matrix Y\n",
    "    Y = zeros(Complex, NBuses, NBuses)\n",
    "    Ynm = zeros(Complex, NBuses, NBuses)\n",
    "    \n",
    "    B_lm = zeros(Complex, NBuses, NBuses)\n",
    "    y_lm = zeros(Complex, NBuses, NBuses)\n",
    "    \n",
    "    for l in 1:NBuses\n",
    "        B_lm[BranchData[l, :fbus], BranchData[l, :tbus]] = 0.5*im*BranchData[l, :b]\n",
    "        B_lm[BranchData[l, :tbus], BranchData[l, :fbus]] = 0.5*im*BranchData[l, :b]\n",
    "        y_lm[BranchData[l, :fbus], BranchData[l, :tbus]] = BranchData[l, :y]\n",
    "        y_lm[BranchData[l, :tbus], BranchData[l, :fbus]] = BranchData[l, :y]\n",
    "    end\n",
    "\n",
    "    \n",
    "       # Non-diagonal Y\n",
    "    for l in 1:NLines\n",
    "        Y[BranchData[l, :fbus], BranchData[l, :tbus]] = -BranchData[l, :y]\n",
    "        Y[BranchData[l, :tbus], BranchData[l, :fbus]] = -BranchData[l, :y]\n",
    "    end\n",
    "\n",
    "    # Diagonal elements\n",
    "    for i = 1:NBuses\n",
    "        for j = 1:NLines\n",
    "            if (i ==BranchData[j, :fbus])|| (i==BranchData[j, :tbus])\n",
    "                Y[i,i] += BranchData[j, :y] + 0.5*im*BranchData[j, :b]\n",
    "            end\n",
    "        end\n",
    "    end\n",
    "    \n",
    "    return Y, B_lm, y_lm\n",
    "end"
   ]
  },
  {
   "cell_type": "code",
   "execution_count": 6,
   "metadata": {
    "scrolled": true
   },
   "outputs": [
    {
     "data": {
      "text/plain": [
       "(Complex[0.218996-2.32906im -0.0517392+1.1087im -0.167256+1.59537im; -0.0517392+1.1087im 0.0961343-1.94055im -0.0443951+1.33185im; -0.167256+1.59537im -0.0443951+1.33185im 0.211651-2.35222im], Complex[0+0im 0.0+0.15im 0.0+0.225im; 0.0+0.15im 0+0im 0.0+0.35im; 0.0+0.225im 0.0+0.35im 0+0im], Complex[0+0im 0.0517392-1.1087im 0.167256-1.59537im; 0.0517392-1.1087im 0+0im 0.0443951-1.33185im; 0.167256-1.59537im 0.0443951-1.33185im 0+0im])"
      ]
     },
     "execution_count": 6,
     "metadata": {},
     "output_type": "execute_result"
    }
   ],
   "source": [
    "Ybus, B_lm, y_lm = ybus(BusData, BranchData)"
   ]
  },
  {
   "cell_type": "code",
   "execution_count": 7,
   "metadata": {},
   "outputs": [
    {
     "data": {
      "text/plain": [
       "Ylm (generic function with 1 method)"
      ]
     },
     "execution_count": 7,
     "metadata": {},
     "output_type": "execute_result"
    }
   ],
   "source": [
    "function Ylm(B_lm, y_lm, l, m)\n",
    "    e_l = zeros(NBuses,1)\n",
    "    e_m = zeros(NBuses,1)\n",
    "    e_l[l], e_m[m] = 1, 1\n",
    "    \n",
    "    Y_lm = (B_lm[l,m]+y_lm[l,m])*e_l*transpose(e_m)\n",
    "end"
   ]
  },
  {
   "cell_type": "code",
   "execution_count": 8,
   "metadata": {},
   "outputs": [
    {
     "data": {
      "text/plain": [
       "3"
      ]
     },
     "execution_count": 8,
     "metadata": {},
     "output_type": "execute_result"
    }
   ],
   "source": [
    "NBuses = size(BusData,1)"
   ]
  },
  {
   "cell_type": "code",
   "execution_count": 9,
   "metadata": {},
   "outputs": [
    {
     "data": {
      "text/plain": [
       "3×3 Array{Number,2}:\n",
       " 0.218996-2.32906im  -0.0517392+1.1087im  -0.167256+1.59537im\n",
       "      0.0+0.0im             0.0+0.0im           0.0+0.0im    \n",
       "      0.0+0.0im             0.0+0.0im           0.0+0.0im    "
      ]
     },
     "execution_count": 9,
     "metadata": {},
     "output_type": "execute_result"
    }
   ],
   "source": [
    "function Y_func(i, Ybus, NBuses)\n",
    "    e_i = zeros(NBuses,1)\n",
    "    e_i[i] = 1\n",
    "    YY = e_i*transpose(e_i)*Ybus\n",
    "    return YY\n",
    "end\n",
    "Y_func(1, Ybus, NBuses)"
   ]
  },
  {
   "cell_type": "code",
   "execution_count": 10,
   "metadata": {},
   "outputs": [
    {
     "data": {
      "text/plain": [
       "3×3 Array{Number,2}:\n",
       " 0.218996-2.32906im  -0.0517392+1.1087im  -0.167256+1.59537im\n",
       "      0.0+0.0im             0.0+0.0im           0.0+0.0im    \n",
       "      0.0+0.0im             0.0+0.0im           0.0+0.0im    "
      ]
     },
     "execution_count": 10,
     "metadata": {},
     "output_type": "execute_result"
    }
   ],
   "source": [
    "Y_func_array = Matrix(NBuses,1)\n",
    "for j in 1:NBuses\n",
    "    Y_func_array[j] = Y_func(j, Ybus, NBuses)\n",
    "end\n",
    "Y_func_array[1] "
   ]
  },
  {
   "cell_type": "code",
   "execution_count": 11,
   "metadata": {},
   "outputs": [
    {
     "data": {
      "text/plain": [
       "Y_i (generic function with 1 method)"
      ]
     },
     "execution_count": 11,
     "metadata": {},
     "output_type": "execute_result"
    }
   ],
   "source": [
    "function Y_i(i, YY, NBuses)\n",
    "    e_i = zeros(NBuses,1)\n",
    "    e_i[i] = 1\n",
    "    \n",
    "    Yi = 0.5 *[[real(YY + transpose(YY)) imag(transpose(YY) - YY)]; [imag(YY - transpose(YY)) real(YY + transpose(YY))]]\n",
    "    \n",
    "    Yi_i = -0.5 *[[imag(YY + transpose(YY)) real(YY - transpose(YY))]; [real(transpose(YY) - YY) imag(YY + transpose(YY))]]\n",
    "\n",
    "    M = [[e_i*transpose(e_i) zeros(NBuses, NBuses)]; [zeros(NBuses, NBuses) e_i*transpose(e_i)]]\n",
    "    \n",
    "    return Yi, Yi_i, M\n",
    "end"
   ]
  },
  {
   "cell_type": "code",
   "execution_count": 12,
   "metadata": {},
   "outputs": [
    {
     "data": {
      "text/plain": [
       "(3, 1)"
      ]
     },
     "execution_count": 12,
     "metadata": {},
     "output_type": "execute_result"
    }
   ],
   "source": [
    "Y_i_array = Matrix(NBuses,1)\n",
    "for j in 1:NBuses\n",
    "    Y_i_array[j] = Y_i(j, Y_func_array[j], NBuses)\n",
    "end\n",
    "size(Y_i_array)"
   ]
  },
  {
   "cell_type": "code",
   "execution_count": 13,
   "metadata": {},
   "outputs": [
    {
     "data": {
      "text/plain": [
       "(6, 6)"
      ]
     },
     "execution_count": 13,
     "metadata": {},
     "output_type": "execute_result"
    }
   ],
   "source": [
    "Y_k_array = Matrix(NBuses,1)\n",
    "for j in 1:NBuses\n",
    "    Y_k_array[j] = Y_i_array[j][1]\n",
    "end\n",
    "size(Y_k_array[1])"
   ]
  },
  {
   "cell_type": "code",
   "execution_count": 14,
   "metadata": {},
   "outputs": [
    {
     "data": {
      "text/plain": [
       "6×6 Array{Float64,2}:\n",
       "  2.32906    -0.554348   -0.797684   -0.0         0.0258696   0.0836282\n",
       " -0.554348   -0.0        -0.0        -0.0258696  -0.0        -0.0      \n",
       " -0.797684   -0.0        -0.0        -0.0836282  -0.0        -0.0      \n",
       " -0.0        -0.0258696  -0.0836282   2.32906    -0.554348   -0.797684 \n",
       "  0.0258696  -0.0        -0.0        -0.554348   -0.0        -0.0      \n",
       "  0.0836282  -0.0        -0.0        -0.797684   -0.0        -0.0      "
      ]
     },
     "execution_count": 14,
     "metadata": {},
     "output_type": "execute_result"
    }
   ],
   "source": [
    "Y_ii_array = Matrix(NBuses,1)\n",
    "for j in 1:NBuses\n",
    "    Y_ii_array[j] = Y_i_array[j][2]\n",
    "end\n",
    "Y_ii_array[1]"
   ]
  },
  {
   "cell_type": "code",
   "execution_count": 15,
   "metadata": {},
   "outputs": [
    {
     "data": {
      "text/plain": [
       "6×6 Array{Float64,2}:\n",
       " 1.0  0.0  0.0  0.0  0.0  0.0\n",
       " 0.0  0.0  0.0  0.0  0.0  0.0\n",
       " 0.0  0.0  0.0  0.0  0.0  0.0\n",
       " 0.0  0.0  0.0  1.0  0.0  0.0\n",
       " 0.0  0.0  0.0  0.0  0.0  0.0\n",
       " 0.0  0.0  0.0  0.0  0.0  0.0"
      ]
     },
     "execution_count": 15,
     "metadata": {},
     "output_type": "execute_result"
    }
   ],
   "source": [
    "Y_M_array = Matrix(NBuses,1)\n",
    "for j in 1:NBuses\n",
    "    Y_M_array[j] = Y_i_array[j][3]\n",
    "end\n",
    "Y_M_array[1]"
   ]
  },
  {
   "cell_type": "code",
   "execution_count": 16,
   "metadata": {},
   "outputs": [
    {
     "data": {
      "text/plain": [
       "YY_lm (generic function with 1 method)"
      ]
     },
     "execution_count": 16,
     "metadata": {},
     "output_type": "execute_result"
    }
   ],
   "source": [
    "function YY_lm(B_lm, y_lm, l, m)\n",
    "    Y_lm = Ylm(B_lm, y_lm, l, m)\n",
    "    Y_lm_first = 0.5 *[[real(Y_lm + transpose(Y_lm)) imag(transpose(Y_lm) - Y_lm)]; [imag(Y_lm - transpose(Y_lm)) real(Y_lm + transpose(Y_lm))]]\n",
    "    \n",
    "    Y_lm_second = -0.5 *[[imag(Y_lm + transpose(Y_lm)) real(Y_lm - transpose(Y_lm))]; [real(transpose(Y_lm) - Y_lm) imag(Y_lm + transpose(Y_lm))]]\n",
    "    \n",
    "    return Y_lm_first, Y_lm_second\n",
    "end"
   ]
  },
  {
   "cell_type": "code",
   "execution_count": 17,
   "metadata": {},
   "outputs": [
    {
     "data": {
      "text/plain": [
       "6×6 Array{Float64,2}:\n",
       " 0.0         0.0258696  0.0   0.0        0.479348   0.0\n",
       " 0.0258696   0.0        0.0  -0.479348   0.0        0.0\n",
       " 0.0         0.0        0.0   0.0        0.0        0.0\n",
       " 0.0        -0.479348   0.0   0.0        0.0258696  0.0\n",
       " 0.479348    0.0        0.0   0.0258696  0.0        0.0\n",
       " 0.0         0.0        0.0   0.0        0.0        0.0"
      ]
     },
     "execution_count": 17,
     "metadata": {},
     "output_type": "execute_result"
    }
   ],
   "source": [
    "Y_lm_array = Matrix(NBuses,NBuses)\n",
    "Y_lm_conj_array = Matrix(NBuses,NBuses)\n",
    "for l in 1:NBuses\n",
    "    for m in 1:NBuses\n",
    "        if l != m\n",
    "            Y_lm_array[l,m], Y_lm_conj_array[l, m] = YY_lm(B_lm, y_lm, l, m)\n",
    "        else\n",
    "            Y_lm_array[l,m], Y_lm_conj_array[l, m] = zeros(NBuses*2, NBuses*2), zeros(NBuses*2, NBuses*2)\n",
    "        end\n",
    "    end\n",
    "end\n",
    "Y_lm_array[1,2]"
   ]
  },
  {
   "cell_type": "code",
   "execution_count": null,
   "metadata": {},
   "outputs": [],
   "source": [
    "# Саша допиши тут, что нужно было"
   ]
  },
  {
   "cell_type": "code",
   "execution_count": null,
   "metadata": {},
   "outputs": [],
   "source": [
    "# Solver "
   ]
  },
  {
   "cell_type": "code",
   "execution_count": 18,
   "metadata": {},
   "outputs": [],
   "source": [
    "# Define generators - it is a bus of type 2 or 3 (type 3 is a slack bus)\n",
    "Gen_indices = Int64[]\n",
    "for i in 1:NBuses\n",
    "     if (BusData[i,:_type] == 2)||(BusData[i,:_type] == 3)\n",
    "        push!(Gen_indices, BusData[i,:bus_i])\n",
    "     end\n",
    "end\n",
    "NI =length(Gen_indices)\n",
    "\n",
    "#NBuses=max(maximum(BranchData[:,:fbus]),maximum(BranchData[:,:tbus]));\n",
    "NLines=size(BranchData,1);\n",
    "NGen=NI;\n",
    "Buses=1:NBuses;\n",
    "Lines=1:NLines;\n",
    "Gen=1:NGen;"
   ]
  },
  {
   "cell_type": "code",
   "execution_count": 19,
   "metadata": {},
   "outputs": [
    {
     "data": {
      "text/plain": [
       "1000"
      ]
     },
     "execution_count": 19,
     "metadata": {},
     "output_type": "execute_result"
    }
   ],
   "source": [
    "# limints in branch powerflow\n",
    "S_line = zeros(NBuses,NBuses)\n",
    "S_line = [0 1000 1000;\n",
    "          1000 0 60;\n",
    "          1000 60 0;]\n",
    "S_line[1,2]"
   ]
  },
  {
   "cell_type": "code",
   "execution_count": 20,
   "metadata": {},
   "outputs": [
    {
     "data": {
      "text/plain": [
       "AA_matrix (generic function with 1 method)"
      ]
     },
     "execution_count": 20,
     "metadata": {},
     "output_type": "execute_result"
    }
   ],
   "source": [
    "function AA_matrix(W,m, l, S_line, Y_lm_array, Y_lm_conj_array)\n",
    "    AA = Matrix(3, 3)\n",
    "    AA = [[-(S_line[m,l])^2 trace(Y_lm_array[l,m]*W) trace(Y_lm_conj_array[l,m]*W)];\n",
    "                                                         [trace(Y_lm_array[l,m]*W) -1 0];\n",
    "                                                        [trace(Y_lm_conj_array[l,m]*W) 0 -1]]\n",
    "    return AA\n",
    "end"
   ]
  },
  {
   "cell_type": "code",
   "execution_count": 36,
   "metadata": {},
   "outputs": [
    {
     "data": {
      "text/plain": [
       "BB_matrix (generic function with 1 method)"
      ]
     },
     "execution_count": 36,
     "metadata": {},
     "output_type": "execute_result"
    }
   ],
   "source": [
    "function BB_matrix(W, i, Y_k_array, BusData, Gen_cost)\n",
    "    return [Gen_cost[i, :c2]*(trace(Y_k_array[i]*W)+BusData[i, :Pd])^2 -sqrt(Gen_cost[i, :c2])*(trace(Y_k_array[i]*W)+BusData[i, :Pd]);\n",
    "                                      -sqrt(Gen_cost[i, :c2])*(trace(Y_k_array[i]*W)+BusData[i, :Pd]) 1;]\n",
    "    \n",
    "end"
   ]
  },
  {
   "cell_type": "code",
   "execution_count": 29,
   "metadata": {},
   "outputs": [
    {
     "data": {
      "text/plain": [
       "3×3 Array{Float64,2}:\n",
       " -1.0e6   0.0   0.0\n",
       "  0.0    -1.0   0.0\n",
       "  0.0     0.0  -1.0"
      ]
     },
     "execution_count": 29,
     "metadata": {},
     "output_type": "execute_result"
    }
   ],
   "source": [
    "AA_matrix(zz,1, 2, S_line, Y_lm_array, Y_lm_conj_array)"
   ]
  },
  {
   "cell_type": "code",
   "execution_count": 22,
   "metadata": {},
   "outputs": [
    {
     "ename": "LoadError",
     "evalue": "\u001b[91mJuMP does not support quadratic objectives for conic problems\u001b[39m",
     "output_type": "error",
     "traceback": [
      "\u001b[91mJuMP does not support quadratic objectives for conic problems\u001b[39m",
      "",
      "Stacktrace:",
      " [1] \u001b[1m#build#136\u001b[22m\u001b[22m\u001b[1m(\u001b[22m\u001b[22m::Bool, ::Bool, ::JuMP.ProblemTraits, ::Function, ::JuMP.Model\u001b[1m)\u001b[22m\u001b[22m at \u001b[1m/home/jrun/.julia/v0.6/JuMP/src/solvers.jl:314\u001b[22m\u001b[22m",
      " [2] \u001b[1m(::JuMP.#kw##build)\u001b[22m\u001b[22m\u001b[1m(\u001b[22m\u001b[22m::Array{Any,1}, ::JuMP.#build, ::JuMP.Model\u001b[1m)\u001b[22m\u001b[22m at \u001b[1m./<missing>:0\u001b[22m\u001b[22m",
      " [3] \u001b[1m#solve#133\u001b[22m\u001b[22m\u001b[1m(\u001b[22m\u001b[22m::Bool, ::Bool, ::Bool, ::Array{Any,1}, ::Function, ::JuMP.Model\u001b[1m)\u001b[22m\u001b[22m at \u001b[1m/home/jrun/.julia/v0.6/JuMP/src/solvers.jl:168\u001b[22m\u001b[22m",
      " [4] \u001b[1msolve\u001b[22m\u001b[22m\u001b[1m(\u001b[22m\u001b[22m::JuMP.Model\u001b[1m)\u001b[22m\u001b[22m at \u001b[1m/home/jrun/.julia/v0.6/JuMP/src/solvers.jl:150\u001b[22m\u001b[22m",
      " [5] \u001b[1minclude_string\u001b[22m\u001b[22m\u001b[1m(\u001b[22m\u001b[22m::String, ::String\u001b[1m)\u001b[22m\u001b[22m at \u001b[1m./loading.jl:522\u001b[22m\u001b[22m"
     ]
    }
   ],
   "source": [
    "mm = Model(solver = SCSSolver())\n",
    "@variable(mm, W[1:6, 1:6], SDP)\n",
    "#@variable(mm, AA[1:3, 1:3], SDP)\n",
    "#@variable(mm, BB[1:2, 1:2], SDP)\n",
    "\n",
    "constr = Array{JuMP.ConstraintRef, 1}()\n",
    "\n",
    "for l = 1:NBuses,  m = 1:NBuses \n",
    "    @expression(mm, expr, [[-(S_line[m,l])^2 trace(Y_lm_array[l,m]*W) trace(Y_lm_conj_array[l,m]*W)];\n",
    "                                                         [trace(Y_lm_array[l,m]*W) -1 0];\n",
    "                                                         [trace(Y_lm_conj_array[l,m]*W) 0 -1]])\n",
    "    push!(constr, @SDconstraint(mm, expr >= zeros(3,3)))\n",
    "end\n",
    "\n",
    "constr1 = Array{JuMP.ConstraintRef, 1}()\n",
    "\n",
    "for i = 1:NBuses\n",
    "    @expression(mm, expr1, [Gen_cost[i, :c2]*(trace(Y_k_array[i]*W)+BusData[i, :Pd])^2 -sqrt(Gen_cost[i, :c2])*(trace(Y_k_array[i]*W)+BusData[i, :Pd]);\n",
    "                                      -sqrt(Gen_cost[i, :c2])*(trace(Y_k_array[i]*W)+BusData[i, :Pd]) 1;])\n",
    "    push!(constr1, @SDconstraint(mm, expr1 >= zeros(2,2)))\n",
    "end\n",
    "                \n",
    "# Nodal balance equation 9b\n",
    "@constraint(mm, BalanceEq[i = 1:NI], GenData[i, :Pmin] - BusData[i, :Pd] <= trace(Y_k_array[i]*W) <= GenData[i, :Pmax] - BusData[i, :Pd])\n",
    "# Nodal balance equation 9c\n",
    "@constraint(mm, BalanceEqq[i = 1:NI], GenData[i, :Qmin] - BusData[i, :Qd] <= trace(Y_ii_array[i]*W) <= GenData[i, :Qmax] - BusData[i, :Qd])\n",
    "# Nodal balance equation 9d\n",
    "@constraint(mm, BalanceEqqq[i = 1:NBuses], BusData[i, :Vmin]^2 <= trace(Y_M_array[i]*W) <= BusData[i, :Vmax]^2)\n",
    "\n",
    "@objective(mm, Min, sum(Gen_cost[i, :c2]*(trace(Y_k_array[i]*W) + BusData[i, :Pd])^2 + Gen_cost[i, :c1]*(trace(Y_k_array[i]*W) + BusData[i, :Pd]) + Gen_cost[i, :c0] for i in Gen_indices))\n",
    "                \n",
    "                \n",
    "solve(mm)"
   ]
  },
  {
   "cell_type": "code",
   "execution_count": null,
   "metadata": {},
   "outputs": [],
   "source": [
    " [[Gen_cost[i, :c2]*(trace(Y_k_array[i]*W)+BusData[i, :Pd])^2 -sqrt(Gen_cost[i, :c2])*(trace(Y_k_array[i]*W)+BusData[i, :Pd]);\n",
    "                                      [-sqrt(Gen_cost[i, :c2])*(trace(Y_k_array[i]*W)+BusData[i, :Pd]) 1]"
   ]
  },
  {
   "cell_type": "code",
   "execution_count": null,
   "metadata": {},
   "outputs": [],
   "source": [
    "# Nodal balance equation 9b\n",
    "@constraint(mm, BalanceEq[i = 1:NI], GenData[i, :Pmin] - BusData[i, :Pd] <= trace(Y_k_array[i]*W) <= GenData[i, :Pmax] - BusData[i, :Pd])\n",
    "# Nodal balance equation 9c\n",
    "@constraint(mm, BalanceEqq[i = 1:NI], GenData[i, :Qmin] - BusData[i, :Qd] <= trace(Y_ii_array[i]*W) <= GenData[i, :Qmax] - BusData[i, :Qd])\n",
    "# Nodal balance equation 9d\n",
    "@constraint(mm, BalanceEqqq[i = 1:NBuses], BusData[i, :Vmin]^2 <= trace(Y_M_array[i]*W) <= BusData[i, :Vmax]^2)\n",
    "\n",
    "@objective(mm, Min, sum(Gen_cost[i, :c2]*(trace(Y_k_array[i]*W) + BusData[i, :Pd])^2 + Gen_cost[i, :c1]*(trace(Y_k_array[i]*W) + BusData[i, :Pd]) + Gen_cost[i, :c0] for i in Gen_indices))\n",
    "                "
   ]
  },
  {
   "cell_type": "code",
   "execution_count": null,
   "metadata": {},
   "outputs": [],
   "source": [
    "@SDconstraint(mm, FlowLimits[l = 1:NBuses, m = 1:NBuses], AA_matrix(W,m, l, S_line, Y_lm_array, Y_lm_conj_array) >= zeros(3,3))\n"
   ]
  },
  {
   "cell_type": "code",
   "execution_count": null,
   "metadata": {},
   "outputs": [],
   "source": [
    "# Дальше пока Саня"
   ]
  },
  {
   "cell_type": "code",
   "execution_count": 31,
   "metadata": {},
   "outputs": [
    {
     "data": {
      "text/html": [
       "<table class=\"data-frame\"><thead><tr><th></th><th>fbus</th><th>tbus</th><th>r</th><th>x</th><th>b</th><th>rateA</th><th>rateB</th><th>rateC</th><th>ratio</th><th>angle</th><th>status</th><th>angmin</th><th>angmax</th><th>z</th><th>y</th></tr></thead><tbody><tr><th>1</th><td>1</td><td>3</td><td>0.065</td><td>0.62</td><td>0.45</td><td>250</td><td>250</td><td>250</td><td>0</td><td>0</td><td>1</td><td>-360</td><td>360</td><td>0.065+0.62im</td><td>0.167256-1.59537im</td></tr><tr><th>2</th><td>3</td><td>2</td><td>0.025</td><td>0.75</td><td>0.7</td><td>250</td><td>250</td><td>250</td><td>0</td><td>0</td><td>1</td><td>-360</td><td>360</td><td>0.025+0.75im</td><td>0.0443951-1.33185im</td></tr><tr><th>3</th><td>1</td><td>2</td><td>0.042</td><td>0.9</td><td>0.3</td><td>150</td><td>150</td><td>150</td><td>0</td><td>0</td><td>1</td><td>-360</td><td>360</td><td>0.042+0.9im</td><td>0.0517392-1.1087im</td></tr></tbody></table>"
      ],
      "text/plain": [
       "3×15 DataFrames.DataFrame. Omitted printing of 6 columns\n",
       "│ Row │ fbus │ tbus │ r     │ x    │ b    │ rateA │ rateB │ rateC │ ratio │\n",
       "├─────┼──────┼──────┼───────┼──────┼──────┼───────┼───────┼───────┼───────┤\n",
       "│ 1   │ 1    │ 3    │ 0.065 │ 0.62 │ 0.45 │ 250   │ 250   │ 250   │ 0     │\n",
       "│ 2   │ 3    │ 2    │ 0.025 │ 0.75 │ 0.7  │ 250   │ 250   │ 250   │ 0     │\n",
       "│ 3   │ 1    │ 2    │ 0.042 │ 0.9  │ 0.3  │ 150   │ 150   │ 150   │ 0     │"
      ]
     },
     "execution_count": 31,
     "metadata": {},
     "output_type": "execute_result"
    }
   ],
   "source": [
    "BranchData"
   ]
  },
  {
   "cell_type": "code",
   "execution_count": 26,
   "metadata": {},
   "outputs": [
    {
     "ename": "LoadError",
     "evalue": "\u001b[91mCollection of expressions with @expression must be linear. For quadratic expressions, use your own array.\u001b[39m",
     "output_type": "error",
     "traceback": [
      "\u001b[91mCollection of expressions with @expression must be linear. For quadratic expressions, use your own array.\u001b[39m",
      "",
      "Stacktrace:",
      " [1] \u001b[1mmacro expansion\u001b[22m\u001b[22m at \u001b[1m/home/jrun/.julia/v0.6/JuMP/src/macros.jl:903\u001b[22m\u001b[22m [inlined]",
      " [2] \u001b[1manonymous\u001b[22m\u001b[22m at \u001b[1m./<missing>:?\u001b[22m\u001b[22m",
      " [3] \u001b[1minclude_string\u001b[22m\u001b[22m\u001b[1m(\u001b[22m\u001b[22m::String, ::String\u001b[1m)\u001b[22m\u001b[22m at \u001b[1m./loading.jl:522\u001b[22m\u001b[22m"
     ]
    }
   ],
   "source": [
    "expr = @expression(mm, [l = 1:NBuses, m = 1:NBuses], [[-(S_line[m,l])^2 trace(Y_lm_array[l,m]*W) trace(Y_lm_conj_array[l,m]*W)];\n",
    "                                                         [trace(Y_lm_array[l,m]*W) -1 0];\n",
    "                                                         [trace(Y_lm_conj_array[l,m]*W) 0 -1]])"
   ]
  },
  {
   "cell_type": "code",
   "execution_count": 48,
   "metadata": {},
   "outputs": [
    {
     "name": "stderr",
     "output_type": "stream",
     "text": [
      "\u001b[1m\u001b[33mWarning: \u001b[39m\u001b[22m\u001b[33mA variable or constraint named BalanceEq is already attached to this model. If creating constraints programmatically, use the anonymous constraint syntax con = @constraint(m, ...).\u001b[39m\n",
      "\u001b[1m\u001b[33mWarning: \u001b[39m\u001b[22m\u001b[33mA variable or constraint named BalanceEqq is already attached to this model. If creating constraints programmatically, use the anonymous constraint syntax con = @constraint(m, ...).\u001b[39m\n",
      "\u001b[1m\u001b[33mWarning: \u001b[39m\u001b[22m\u001b[33mA variable or constraint named BalanceEqqq is already attached to this model. If creating constraints programmatically, use the anonymous constraint syntax con = @constraint(m, ...).\u001b[39m\n"
     ]
    },
    {
     "ename": "LoadError",
     "evalue": "\u001b[91mMethodError: Cannot `convert` an object of type Array{JuMP.ConstraintRef{JuMP.Model,JuMP.GenericRangeConstraint{JuMP.GenericAffExpr{Float64,JuMP.Variable}}},2} to an object of type JuMP.ConstraintRef\nThis may have arisen from a call to the constructor JuMP.ConstraintRef(...),\nsince type constructors fall back to convert methods.\u001b[39m",
     "output_type": "error",
     "traceback": [
      "\u001b[91mMethodError: Cannot `convert` an object of type Array{JuMP.ConstraintRef{JuMP.Model,JuMP.GenericRangeConstraint{JuMP.GenericAffExpr{Float64,JuMP.Variable}}},2} to an object of type JuMP.ConstraintRef\nThis may have arisen from a call to the constructor JuMP.ConstraintRef(...),\nsince type constructors fall back to convert methods.\u001b[39m",
      "",
      "Stacktrace:",
      " [1] \u001b[1msetindex!\u001b[22m\u001b[22m\u001b[1m(\u001b[22m\u001b[22m::Array{JuMP.ConstraintRef,2}, ::Array{JuMP.ConstraintRef{JuMP.Model,JuMP.GenericRangeConstraint{JuMP.GenericAffExpr{Float64,JuMP.Variable}}},2}, ::Int64, ::Int64\u001b[1m)\u001b[22m\u001b[22m at \u001b[1m./array.jl:579\u001b[22m\u001b[22m",
      " [2] \u001b[1mmacro expansion\u001b[22m\u001b[22m at \u001b[1m/home/jrun/.julia/v0.6/JuMP/src/macros.jl:494\u001b[22m\u001b[22m [inlined]",
      " [3] \u001b[1manonymous\u001b[22m\u001b[22m at \u001b[1m./<missing>:?\u001b[22m\u001b[22m",
      " [4] \u001b[1minclude_string\u001b[22m\u001b[22m\u001b[1m(\u001b[22m\u001b[22m::String, ::String\u001b[1m)\u001b[22m\u001b[22m at \u001b[1m./loading.jl:522\u001b[22m\u001b[22m"
     ]
    }
   ],
   "source": [
    "# Nodal balance equation 9b\n",
    "@constraint(mm, BalanceEq[i = 1:NI], GenData[i, :Pmin] - BusData[i, :Pd] <= trace(Y_k_array[i]*W) <= GenData[i, :Pmax] - BusData[i, :Pd])\n",
    "# Nodal balance equation 9c\n",
    "@constraint(mm, BalanceEqq[i = 1:NI], GenData[i, :Qmin] - BusData[i, :Qd] <= trace(Y_ii_array[i]*W) <= GenData[i, :Qmax] - BusData[i, :Qd])\n",
    "# Nodal balance equation 9d\n",
    "@constraint(mm, BalanceEqqq[i = 1:NBuses], BusData[i, :Vmin]^2 <= trace(Y_M_array[i]*W) <= BusData[i, :Vmax]^2)\n",
    "# Line limits\n",
    "@constraint(mm, FlowLimits[l = 1:NBuses, m = 1:NBuses], AA .== zeros(3,3))"
   ]
  },
  {
   "cell_type": "code",
   "execution_count": 38,
   "metadata": {},
   "outputs": [
    {
     "data": {
      "text/plain": [
       "2-element Array{Any,1}:\n",
       "  \"s\"\n",
       " 1   "
      ]
     },
     "execution_count": 38,
     "metadata": {},
     "output_type": "execute_result"
    }
   ],
   "source": [
    "[ \"s\", 1]"
   ]
  },
  {
   "cell_type": "code",
   "execution_count": null,
   "metadata": {},
   "outputs": [],
   "source": [
    "mm = Model(solver = IpoptSolver())\n",
    "@variable(mm, W[1:6, 1:6], SDP)\n",
    "#@variable(mm, AA[1:3, 1:3], SDP)\n",
    "#@variable(mm, BB[1:2, 1:2], SDP)\n",
    "\n",
    "constr = Array{JuMP.ConstraintRef, 1}()\n",
    "\n",
    "for l = 1:NBuses,  m = 1:NBuses \n",
    "    @expression(mm, expr, [AA[i,j] BB[i,j]; AA[i,j] BB[i,j]])\n",
    "    push!(constr, @SDconstraint(mm, expr >= zeros(2,2)))\n",
    "end"
   ]
  },
  {
   "cell_type": "code",
   "execution_count": null,
   "metadata": {},
   "outputs": [],
   "source": [
    "@constraints(m, FlowLimits[l = 1:NLines, m = 1:NLines], begin\n",
    "    AA[1,1] == -(S_line[m,l])^2\n",
    "    AA[1,2] == trace(Y_lm_array[l,m]*W)\n",
    "    AA[1,3] == trace(Y_lm_conj_array[l,m]*W)\n",
    "    AA[2,1] == trace(Y_lm_array[l,m]*W)\n",
    "    AA[2,2] == -1\n",
    "    AA[2,3] == 0\n",
    "    AA[3,1] == trace(Y_lm_conj_array[l,m]*W)\n",
    "    AA[3,2] == 0\n",
    "    AA[3,3] == -1\n",
    "end)"
   ]
  },
  {
   "cell_type": "code",
   "execution_count": null,
   "metadata": {},
   "outputs": [],
   "source": [
    "@constraint(mm, FlowLimits[l = 1:NLines, m = 1:NLines],  AA == [[-(S_line[m,l])^2 trace(Y_lm_array[l,m]*W) trace(Y_lm_conj_array[l,m]*W)];\n",
    "                                                         [trace(Y_lm_array[l,m]*W) -1 0];\n",
    "                                                         [trace(Y_lm_conj_array[l,m]*W) 0 -1]])\n",
    "# Generation\n",
    "@constraint(mm, BalanceEqqqq[i = 1:NI],  BB  == [[Gen_cost[i, :c2]*(trace(Y_k_array[i]*W)+BusData[i, :Pd])^2 -sqrt(Gen_cost[i, :c2])*(trace(Y_k_array[i]*W)+BusData[i, :Pd]);\n",
    "                                      [-sqrt(Gen_cost[i, :c2])*(trace(Y_k_array[i]*W)+BusData[i, :Pd]) 1])"
   ]
  },
  {
   "cell_type": "code",
   "execution_count": null,
   "metadata": {},
   "outputs": [],
   "source": [
    "@addConstraints(m, FlowLimits[l = 1:NLines, m = 1:NLines], begin\n",
    "    AA[1,1] == -(S_line[m,l])^2\n",
    "    AA[1,2] == trace(Y_lm_array[l,m]*W)\n",
    "    AA[1,3] == trace(Y_lm_conj_array[l,m]*W)\n",
    "    AA[2,1] == trace(Y_lm_array[l,m]*W)\n",
    "    AA[2,2] == -1\n",
    "    AA[2,3] == 0\n",
    "    AA[3,1] == trace(Y_lm_conj_array[l,m]*W)\n",
    "    AA[3,2] == 0\n",
    "    AA[3,3] == -1\n",
    "end)"
   ]
  },
  {
   "cell_type": "code",
   "execution_count": 69,
   "metadata": {},
   "outputs": [
    {
     "data": {
      "text/latex": [
       "$$ 0.005275494538845252 W_{1,1}^2 - 0.0024927425683582295 W_{1,1}\\times W_{1,2} + 0.0005220037433709549 W_{1,2}^2 - 0.008058246509332274 W_{1,1}\\times W_{1,3} + 0.0019038152681448443 W_{1,2}\\times W_{1,3} + 0.006504114834436714 W_{1,3}^2 - 0.053415912179104914 W_{1,1}\\times W_{1,5} + 0.002868152436104148 W_{1,2}\\times W_{1,5} + 0.04079604146024667 W_{1,3}\\times W_{1,5} + 0.2396955964458467 W_{1,5}^2 - 0.07686327439670784 W_{1,1}\\times W_{1,6} + 0.01815946871153544 W_{1,2}\\times W_{1,6} - 0.006670887009678673 W_{1,3}\\times W_{1,6} + 0.38913147239004514 W_{1,5}\\times W_{1,6} + 0.5917589922739582 W_{1,6}^2 - 0.0008455645293615056 W_{1,2}\\times W_{2,2} + 0.018119239914889403 W_{1,5}\\times W_{2,2} + 0.0007855531777469824 W_{2,2}^2 + 0.0003904843428329807 W_{1,2}\\times W_{2,3} + 0.0018192144891723537 W_{1,3}\\times W_{2,3} - 0.0083675216321353 W_{1,5}\\times W_{2,3} - 0.01735250743518245 W_{1,6}\\times W_{2,3} - 0.0007255418261324593 W_{2,2}\\times W_{2,3} + 0.0004089672222625988 W_{2,3}^2 + 0.053415912179104914 W_{1,1}\\times W_{2,4} - 0.002868152436104148 W_{1,2}\\times W_{2,4} - 0.04079604146024667 W_{1,3}\\times W_{2,4} - 0.4793911928916934 W_{1,5}\\times W_{2,4} - 0.38913147239004514 W_{1,6}\\times W_{2,4} - 0.018119239914889406 W_{2,2}\\times W_{2,4} + 0.008367521632135302 W_{2,3}\\times W_{2,4} + 0.2396955964458467 W_{2,4}^2 + 0.011714530284989422 W_{1,2}\\times W_{2,6} - 0.05457643467517061 W_{1,3}\\times W_{2,6} - 0.25102564896405904 W_{1,5}\\times W_{2,6} + 0.5205752230554735 W_{1,6}\\times W_{2,6} - 0.02176625478397378 W_{2,2}\\times W_{2,6} - 0.004434584337787213 W_{2,3}\\times W_{2,6} + 0.25102564896405904 W_{2,4}\\times W_{2,6} + 0.368070500036339 W_{2,6}^2 - 0.008673012916858354 W_{1,3}\\times W_{3,3} + 0.08272720013003353 W_{1,6}\\times W_{3,3} - 0.0023020914503980726 W_{2,3}\\times W_{3,3} + 0.06906274351194218 W_{2,6}\\times W_{3,3} + 0.005487552183628213 W_{3,3}^2 + 0.07686327439670784 W_{1,1}\\times W_{3,4} - 0.01815946871153544 W_{1,2}\\times W_{3,4} + 0.006670887009678673 W_{1,3}\\times W_{3,4} - 0.38913147239004514 W_{1,5}\\times W_{3,4} - 1.1835179845479162 W_{1,6}\\times W_{3,4} + 0.01735250743518245 W_{2,3}\\times W_{3,4} + 0.38913147239004514 W_{2,4}\\times W_{3,4} - 0.5205752230554735 W_{2,6}\\times W_{3,4} - 0.08272720013003353 W_{3,3}\\times W_{3,4} + 0.5917589922739582 W_{3,4}^2 - 0.011714530284989422 W_{1,2}\\times W_{3,5} + 0.05457643467517061 W_{1,3}\\times W_{3,5} + 0.25102564896405904 W_{1,5}\\times W_{3,5} - 0.5205752230554735 W_{1,6}\\times W_{3,5} + 0.02176625478397378 W_{2,2}\\times W_{3,5} + 0.004434584337787213 W_{2,3}\\times W_{3,5} - 0.25102564896405904 W_{2,4}\\times W_{3,5} - 0.736141000072678 W_{2,6}\\times W_{3,5} - 0.06906274351194218 W_{3,3}\\times W_{3,5} + 0.5205752230554735 W_{3,4}\\times W_{3,5} + 0.368070500036339 W_{3,5}^2 + 0.010550989077690504 W_{1,1}\\times W_{4,4} - 0.0024927425683582295 W_{1,2}\\times W_{4,4} - 0.008058246509332274 W_{1,3}\\times W_{4,4} - 0.053415912179104914 W_{1,5}\\times W_{4,4} - 0.07686327439670784 W_{1,6}\\times W_{4,4} + 0.053415912179104914 W_{2,4}\\times W_{4,4} + 0.07686327439670784 W_{3,4}\\times W_{4,4} + 0.005275494538845252 W_{4,4}^2 - 0.0024927425683582295 W_{1,1}\\times W_{4,5} + 0.0010440074867419096 W_{1,2}\\times W_{4,5} + 0.0019038152681448443 W_{1,3}\\times W_{4,5} + 0.002868152436104148 W_{1,5}\\times W_{4,5} + 0.01815946871153544 W_{1,6}\\times W_{4,5} - 0.0008455645293615055 W_{2,2}\\times W_{4,5} + 0.0003904843428329807 W_{2,3}\\times W_{4,5} - 0.002868152436104148 W_{2,4}\\times W_{4,5} + 0.011714530284989422 W_{2,6}\\times W_{4,5} - 0.018159468711535436 W_{3,4}\\times W_{4,5} - 0.011714530284989422 W_{3,5}\\times W_{4,5} - 0.0024927425683582295 W_{4,4}\\times W_{4,5} + 0.0005220037433709549 W_{4,5}^2 - 0.008058246509332274 W_{1,1}\\times W_{4,6} + 0.0019038152681448443 W_{1,2}\\times W_{4,6} + 0.013008229668873434 W_{1,3}\\times W_{4,6} + 0.04079604146024667 W_{1,5}\\times W_{4,6} - 0.006670887009678673 W_{1,6}\\times W_{4,6} + 0.0018192144891723537 W_{2,3}\\times W_{4,6} - 0.04079604146024667 W_{2,4}\\times W_{4,6} - 0.05457643467517061 W_{2,6}\\times W_{4,6} - 0.008673012916858354 W_{3,3}\\times W_{4,6} + 0.006670887009678673 W_{3,4}\\times W_{4,6} + 0.05457643467517061 W_{3,5}\\times W_{4,6} - 0.008058246509332274 W_{4,4}\\times W_{4,6} + 0.0019038152681448443 W_{4,5}\\times W_{4,6} + 0.006504114834436714 W_{4,6}^2 - 0.0008455645293615056 W_{1,2}\\times W_{5,5} + 0.018119239914889403 W_{1,5}\\times W_{5,5} + 0.0015711063554939648 W_{2,2}\\times W_{5,5} - 0.0007255418261324592 W_{2,3}\\times W_{5,5} - 0.018119239914889403 W_{2,4}\\times W_{5,5} - 0.02176625478397378 W_{2,6}\\times W_{5,5} + 0.02176625478397378 W_{3,5}\\times W_{5,5} - 0.0008455645293615056 W_{4,5}\\times W_{5,5} + 0.0007855531777469824 W_{5,5}^2 + 0.0003904843428329807 W_{1,2}\\times W_{5,6} + 0.0018192144891723534 W_{1,3}\\times W_{5,6} - 0.0083675216321353 W_{1,5}\\times W_{5,6} - 0.01735250743518245 W_{1,6}\\times W_{5,6} - 0.0007255418261324593 W_{2,2}\\times W_{5,6} + 0.0008179344445251976 W_{2,3}\\times W_{5,6} + 0.0083675216321353 W_{2,4}\\times W_{5,6} - 0.004434584337787215 W_{2,6}\\times W_{5,6} - 0.0023020914503980726 W_{3,3}\\times W_{5,6} + 0.01735250743518245 W_{3,4}\\times W_{5,6} + 0.004434584337787216 W_{3,5}\\times W_{5,6} + 0.0003904843428329807 W_{4,5}\\times W_{5,6} + 0.0018192144891723537 W_{4,6}\\times W_{5,6} - 0.0007255418261324593 W_{5,5}\\times W_{5,6} + 0.0004089672222625988 W_{5,6}^2 - 0.008673012916858354 W_{1,3}\\times W_{6,6} + 0.08272720013003353 W_{1,6}\\times W_{6,6} - 0.0023020914503980726 W_{2,3}\\times W_{6,6} + 0.06906274351194218 W_{2,6}\\times W_{6,6} + 0.010975104367256426 W_{3,3}\\times W_{6,6} - 0.08272720013003353 W_{3,4}\\times W_{6,6} - 0.06906274351194218 W_{3,5}\\times W_{6,6} - 0.008673012916858354 W_{4,6}\\times W_{6,6} - 0.0023020914503980726 W_{5,6}\\times W_{6,6} + 0.005487552183628213 W_{6,6}^2 + 6.394669416148689 W_{1,1} - 2.540393513385664 W_{1,2} - 8.944033451270505 W_{1,3} - 10.31087853119872 W_{1,5} - 7.857188806690261 W_{1,6} + 10.31087853119872 W_{2,4} + 7.857188806690261 W_{3,4} + 6.394669416148689 W_{4,4} - 2.540393513385664 W_{4,5} - 8.944033451270505 W_{4,6} + 1.9130724100547623 W_{2,2} - 1.9611542730299671 W_{2,3} + 5.826859045504996 W_{2,6} - 5.826859045504996 W_{3,5} + 1.9130724100547623 W_{5,5} - 1.9611542730299671 W_{5,6} + 5.137839411482684 W_{3,3} + 5.137839411482684 W_{6,6} + 4242.0625 $$"
      ],
      "text/plain": [
       "0.005275494538845252 W[1,1]² - 0.0024927425683582295 W[1,1]*W[1,2] + 0.0005220037433709549 W[1,2]² - 0.008058246509332274 W[1,1]*W[1,3] + 0.0019038152681448443 W[1,2]*W[1,3] + 0.006504114834436714 W[1,3]² - 0.053415912179104914 W[1,1]*W[1,5] + 0.002868152436104148 W[1,2]*W[1,5] + 0.04079604146024667 W[1,3]*W[1,5] + 0.2396955964458467 W[1,5]² - 0.07686327439670784 W[1,1]*W[1,6] + 0.01815946871153544 W[1,2]*W[1,6] - 0.006670887009678673 W[1,3]*W[1,6] + 0.38913147239004514 W[1,5]*W[1,6] + 0.5917589922739582 W[1,6]² - 0.0008455645293615056 W[1,2]*W[2,2] + 0.018119239914889403 W[1,5]*W[2,2] + 0.0007855531777469824 W[2,2]² + 0.0003904843428329807 W[1,2]*W[2,3] + 0.0018192144891723537 W[1,3]*W[2,3] - 0.0083675216321353 W[1,5]*W[2,3] - 0.01735250743518245 W[1,6]*W[2,3] - 0.0007255418261324593 W[2,2]*W[2,3] + 0.0004089672222625988 W[2,3]² + 0.053415912179104914 W[1,1]*W[2,4] - 0.002868152436104148 W[1,2]*W[2,4] - 0.04079604146024667 W[1,3]*W[2,4] - 0.4793911928916934 W[1,5]*W[2,4] - 0.38913147239004514 W[1,6]*W[2,4] - 0.018119239914889406 W[2,2]*W[2,4] + 0.008367521632135302 W[2,3]*W[2,4] + 0.2396955964458467 W[2,4]² + 0.011714530284989422 W[1,2]*W[2,6] - 0.05457643467517061 W[1,3]*W[2,6] - 0.25102564896405904 W[1,5]*W[2,6] + 0.5205752230554735 W[1,6]*W[2,6] - 0.02176625478397378 W[2,2]*W[2,6] - 0.004434584337787213 W[2,3]*W[2,6] + 0.25102564896405904 W[2,4]*W[2,6] + 0.368070500036339 W[2,6]² - 0.008673012916858354 W[1,3]*W[3,3] + 0.08272720013003353 W[1,6]*W[3,3] - 0.0023020914503980726 W[2,3]*W[3,3] + 0.06906274351194218 W[2,6]*W[3,3] + 0.005487552183628213 W[3,3]² + 0.07686327439670784 W[1,1]*W[3,4] - 0.01815946871153544 W[1,2]*W[3,4] + 0.006670887009678673 W[1,3]*W[3,4] - 0.38913147239004514 W[1,5]*W[3,4] - 1.1835179845479162 W[1,6]*W[3,4] + 0.01735250743518245 W[2,3]*W[3,4] + 0.38913147239004514 W[2,4]*W[3,4] - 0.5205752230554735 W[2,6]*W[3,4] - 0.08272720013003353 W[3,3]*W[3,4] + 0.5917589922739582 W[3,4]² - 0.011714530284989422 W[1,2]*W[3,5] + 0.05457643467517061 W[1,3]*W[3,5] + 0.25102564896405904 W[1,5]*W[3,5] - 0.5205752230554735 W[1,6]*W[3,5] + 0.02176625478397378 W[2,2]*W[3,5] + 0.004434584337787213 W[2,3]*W[3,5] - 0.25102564896405904 W[2,4]*W[3,5] - 0.736141000072678 W[2,6]*W[3,5] - 0.06906274351194218 W[3,3]*W[3,5] + 0.5205752230554735 W[3,4]*W[3,5] + 0.368070500036339 W[3,5]² + 0.010550989077690504 W[1,1]*W[4,4] - 0.0024927425683582295 W[1,2]*W[4,4] - 0.008058246509332274 W[1,3]*W[4,4] - 0.053415912179104914 W[1,5]*W[4,4] - 0.07686327439670784 W[1,6]*W[4,4] + 0.053415912179104914 W[2,4]*W[4,4] + 0.07686327439670784 W[3,4]*W[4,4] + 0.005275494538845252 W[4,4]² - 0.0024927425683582295 W[1,1]*W[4,5] + 0.0010440074867419096 W[1,2]*W[4,5] + 0.0019038152681448443 W[1,3]*W[4,5] + 0.002868152436104148 W[1,5]*W[4,5] + 0.01815946871153544 W[1,6]*W[4,5] - 0.0008455645293615055 W[2,2]*W[4,5] + 0.0003904843428329807 W[2,3]*W[4,5] - 0.002868152436104148 W[2,4]*W[4,5] + 0.011714530284989422 W[2,6]*W[4,5] - 0.018159468711535436 W[3,4]*W[4,5] - 0.011714530284989422 W[3,5]*W[4,5] - 0.0024927425683582295 W[4,4]*W[4,5] + 0.0005220037433709549 W[4,5]² - 0.008058246509332274 W[1,1]*W[4,6] + 0.0019038152681448443 W[1,2]*W[4,6] + 0.013008229668873434 W[1,3]*W[4,6] + 0.04079604146024667 W[1,5]*W[4,6] - 0.006670887009678673 W[1,6]*W[4,6] + 0.0018192144891723537 W[2,3]*W[4,6] - 0.04079604146024667 W[2,4]*W[4,6] - 0.05457643467517061 W[2,6]*W[4,6] - 0.008673012916858354 W[3,3]*W[4,6] + 0.006670887009678673 W[3,4]*W[4,6] + 0.05457643467517061 W[3,5]*W[4,6] - 0.008058246509332274 W[4,4]*W[4,6] + 0.0019038152681448443 W[4,5]*W[4,6] + 0.006504114834436714 W[4,6]² - 0.0008455645293615056 W[1,2]*W[5,5] + 0.018119239914889403 W[1,5]*W[5,5] + 0.0015711063554939648 W[2,2]*W[5,5] - 0.0007255418261324592 W[2,3]*W[5,5] - 0.018119239914889403 W[2,4]*W[5,5] - 0.02176625478397378 W[2,6]*W[5,5] + 0.02176625478397378 W[3,5]*W[5,5] - 0.0008455645293615056 W[4,5]*W[5,5] + 0.0007855531777469824 W[5,5]² + 0.0003904843428329807 W[1,2]*W[5,6] + 0.0018192144891723534 W[1,3]*W[5,6] - 0.0083675216321353 W[1,5]*W[5,6] - 0.01735250743518245 W[1,6]*W[5,6] - 0.0007255418261324593 W[2,2]*W[5,6] + 0.0008179344445251976 W[2,3]*W[5,6] + 0.0083675216321353 W[2,4]*W[5,6] - 0.004434584337787215 W[2,6]*W[5,6] - 0.0023020914503980726 W[3,3]*W[5,6] + 0.01735250743518245 W[3,4]*W[5,6] + 0.004434584337787216 W[3,5]*W[5,6] + 0.0003904843428329807 W[4,5]*W[5,6] + 0.0018192144891723537 W[4,6]*W[5,6] - 0.0007255418261324593 W[5,5]*W[5,6] + 0.0004089672222625988 W[5,6]² - 0.008673012916858354 W[1,3]*W[6,6] + 0.08272720013003353 W[1,6]*W[6,6] - 0.0023020914503980726 W[2,3]*W[6,6] + 0.06906274351194218 W[2,6]*W[6,6] + 0.010975104367256426 W[3,3]*W[6,6] - 0.08272720013003353 W[3,4]*W[6,6] - 0.06906274351194218 W[3,5]*W[6,6] - 0.008673012916858354 W[4,6]*W[6,6] - 0.0023020914503980726 W[5,6]*W[6,6] + 0.005487552183628213 W[6,6]² + 6.394669416148689 W[1,1] - 2.540393513385664 W[1,2] - 8.944033451270505 W[1,3] - 10.31087853119872 W[1,5] - 7.857188806690261 W[1,6] + 10.31087853119872 W[2,4] + 7.857188806690261 W[3,4] + 6.394669416148689 W[4,4] - 2.540393513385664 W[4,5] - 8.944033451270505 W[4,6] + 1.9130724100547623 W[2,2] - 1.9611542730299671 W[2,3] + 5.826859045504996 W[2,6] - 5.826859045504996 W[3,5] + 1.9130724100547623 W[5,5] - 1.9611542730299671 W[5,6] + 5.137839411482684 W[3,3] + 5.137839411482684 W[6,6] + 4242.0625"
      ]
     },
     "execution_count": 69,
     "metadata": {},
     "output_type": "execute_result"
    }
   ],
   "source": [
    "@objective(mm, Min, sum(Gen_cost[i, :c2]*(trace(Y_k_array[i]*W) + BusData[i, :Pd])^2 + Gen_cost[i, :c1]*(trace(Y_k_array[i]*W) + BusData[i, :Pd]) + Gen_cost[i, :c0] for i in Gen_indices))"
   ]
  },
  {
   "cell_type": "code",
   "execution_count": 70,
   "metadata": {},
   "outputs": [
    {
     "ename": "LoadError",
     "evalue": "\u001b[91mJuMP does not support quadratic objectives for conic problems\u001b[39m",
     "output_type": "error",
     "traceback": [
      "\u001b[91mJuMP does not support quadratic objectives for conic problems\u001b[39m",
      "",
      "Stacktrace:",
      " [1] \u001b[1m#build#136\u001b[22m\u001b[22m\u001b[1m(\u001b[22m\u001b[22m::Bool, ::Bool, ::JuMP.ProblemTraits, ::Function, ::JuMP.Model\u001b[1m)\u001b[22m\u001b[22m at \u001b[1m/home/jrun/.julia/v0.6/JuMP/src/solvers.jl:314\u001b[22m\u001b[22m",
      " [2] \u001b[1m(::JuMP.#kw##build)\u001b[22m\u001b[22m\u001b[1m(\u001b[22m\u001b[22m::Array{Any,1}, ::JuMP.#build, ::JuMP.Model\u001b[1m)\u001b[22m\u001b[22m at \u001b[1m./<missing>:0\u001b[22m\u001b[22m",
      " [3] \u001b[1m#solve#133\u001b[22m\u001b[22m\u001b[1m(\u001b[22m\u001b[22m::Bool, ::Bool, ::Bool, ::Array{Any,1}, ::Function, ::JuMP.Model\u001b[1m)\u001b[22m\u001b[22m at \u001b[1m/home/jrun/.julia/v0.6/JuMP/src/solvers.jl:168\u001b[22m\u001b[22m",
      " [4] \u001b[1msolve\u001b[22m\u001b[22m\u001b[1m(\u001b[22m\u001b[22m::JuMP.Model\u001b[1m)\u001b[22m\u001b[22m at \u001b[1m/home/jrun/.julia/v0.6/JuMP/src/solvers.jl:150\u001b[22m\u001b[22m",
      " [5] \u001b[1minclude_string\u001b[22m\u001b[22m\u001b[1m(\u001b[22m\u001b[22m::String, ::String\u001b[1m)\u001b[22m\u001b[22m at \u001b[1m./loading.jl:522\u001b[22m\u001b[22m"
     ]
    }
   ],
   "source": [
    "solve(mm)"
   ]
  },
  {
   "cell_type": "code",
   "execution_count": null,
   "metadata": {},
   "outputs": [],
   "source": [
    "scopf(\"bus_9.csv\", \"branch_9.csv\", \"gen_9.csv\", \"gencost_9.csv\", \"Corrective\")"
   ]
  }
 ],
 "metadata": {
  "kernelspec": {
   "display_name": "Julia 0.6.4",
   "language": "julia",
   "name": "julia-0.6"
  },
  "language_info": {
   "file_extension": ".jl",
   "mimetype": "application/julia",
   "name": "julia",
   "version": "0.6.4"
  }
 },
 "nbformat": 4,
 "nbformat_minor": 2
}
