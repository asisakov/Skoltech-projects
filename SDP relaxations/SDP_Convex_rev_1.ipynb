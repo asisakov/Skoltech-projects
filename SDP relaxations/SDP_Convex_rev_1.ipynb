{
 "cells": [
  {
   "cell_type": "code",
   "execution_count": 1,
   "metadata": {
    "scrolled": true
   },
   "outputs": [],
   "source": [
    "using DataFrames, CSV, DataArrays, Convex, SCS"
   ]
  },
  {
   "cell_type": "code",
   "execution_count": 2,
   "metadata": {},
   "outputs": [
    {
     "data": {
      "text/html": [
       "<table class=\"data-frame\"><thead><tr><th></th><th>x2</th><th>startup</th><th>shutdown</th><th>n</th><th>c2</th><th>c1</th><th>c0</th></tr></thead><tbody><tr><th>1</th><td>2</td><td>1500</td><td>0</td><td>3</td><td>0.11</td><td>5.0</td><td>0</td></tr><tr><th>2</th><td>2</td><td>2000</td><td>0</td><td>3</td><td>0.085</td><td>1.2</td><td>0</td></tr><tr><th>3</th><td>2</td><td>3000</td><td>0</td><td>3</td><td>0.1225</td><td>1.0</td><td>0</td></tr></tbody></table>"
      ],
      "text/plain": [
       "3×7 DataFrames.DataFrame\n",
       "│ Row │ x2 │ startup │ shutdown │ n │ c2     │ c1  │ c0 │\n",
       "├─────┼────┼─────────┼──────────┼───┼────────┼─────┼────┤\n",
       "│ 1   │ 2  │ 1500    │ 0        │ 3 │ 0.11   │ 5.0 │ 0  │\n",
       "│ 2   │ 2  │ 2000    │ 0        │ 3 │ 0.085  │ 1.2 │ 0  │\n",
       "│ 3   │ 2  │ 3000    │ 0        │ 3 │ 0.1225 │ 1.0 │ 0  │"
      ]
     },
     "execution_count": 2,
     "metadata": {},
     "output_type": "execute_result"
    }
   ],
   "source": [
    "GenData = readtable(\"gen_3.csv\")\n",
    "BusData = readtable(\"bus_3.csv\")\n",
    "BranchData = readtable(\"branch_3.csv\")\n",
    "Gen_cost = readtable(\"gencost_3.csv\")"
   ]
  },
  {
   "cell_type": "code",
   "execution_count": 3,
   "metadata": {},
   "outputs": [
    {
     "data": {
      "text/plain": [
       "ybus (generic function with 1 method)"
      ]
     },
     "execution_count": 3,
     "metadata": {},
     "output_type": "execute_result"
    }
   ],
   "source": [
    "# Function for the admittance matrix of the network\n",
    "\n",
    "function ybus(BusData, BranchData)\n",
    "    \n",
    "    # Y = 1/Z\n",
    "    BranchData[:z] = BranchData[:r] + im*BranchData[:x]\n",
    "    BranchData[:y] = 1 ./BranchData[:z]\n",
    "    \n",
    "    # Numbers of lines and buses\n",
    "    NLines = size(BranchData,1)\n",
    "    NBuses = size(BusData,1)\n",
    "    \n",
    "    # Creating Admittance matrix Y\n",
    "    Y = zeros(Complex, NBuses, NBuses)\n",
    "    Ynm = zeros(Complex, NBuses, NBuses)\n",
    "    \n",
    "    B_lm = zeros(Complex, NBuses, NBuses)\n",
    "    y_lm = zeros(Complex, NBuses, NBuses)\n",
    "    \n",
    "    for l in 1:NBuses\n",
    "        B_lm[BranchData[l, :fbus], BranchData[l, :tbus]] = 0.5*im*BranchData[l, :b]\n",
    "        B_lm[BranchData[l, :tbus], BranchData[l, :fbus]] = 0.5*im*BranchData[l, :b]\n",
    "        y_lm[BranchData[l, :fbus], BranchData[l, :tbus]] = BranchData[l, :y]\n",
    "        y_lm[BranchData[l, :tbus], BranchData[l, :fbus]] = BranchData[l, :y]\n",
    "    end\n",
    "\n",
    "    \n",
    "       # Non-diagonal Y\n",
    "    for l in 1:NLines\n",
    "        Y[BranchData[l, :fbus], BranchData[l, :tbus]] = -BranchData[l, :y]\n",
    "        Y[BranchData[l, :tbus], BranchData[l, :fbus]] = -BranchData[l, :y]\n",
    "    end\n",
    "\n",
    "    # Diagonal elements\n",
    "    for i = 1:NBuses\n",
    "        for j = 1:NLines\n",
    "            if (i ==BranchData[j, :fbus])|| (i==BranchData[j, :tbus])\n",
    "                Y[i,i] += BranchData[j, :y] + 0.5*im*BranchData[j, :b]\n",
    "            end\n",
    "        end\n",
    "    end\n",
    "    \n",
    "    return Y, B_lm, y_lm\n",
    "end"
   ]
  },
  {
   "cell_type": "code",
   "execution_count": 4,
   "metadata": {
    "scrolled": true
   },
   "outputs": [
    {
     "data": {
      "text/plain": [
       "(Complex[0.218996-2.32906im -0.0517392+1.1087im -0.167256+1.59537im; -0.0517392+1.1087im 0.0961343-1.94055im -0.0443951+1.33185im; -0.167256+1.59537im -0.0443951+1.33185im 0.211651-2.35222im], Complex[0+0im 0.0+0.15im 0.0+0.225im; 0.0+0.15im 0+0im 0.0+0.35im; 0.0+0.225im 0.0+0.35im 0+0im], Complex[0+0im 0.0517392-1.1087im 0.167256-1.59537im; 0.0517392-1.1087im 0+0im 0.0443951-1.33185im; 0.167256-1.59537im 0.0443951-1.33185im 0+0im])"
      ]
     },
     "execution_count": 4,
     "metadata": {},
     "output_type": "execute_result"
    }
   ],
   "source": [
    "Ybus, B_lm, y_lm = ybus(BusData, BranchData)"
   ]
  },
  {
   "cell_type": "code",
   "execution_count": 5,
   "metadata": {},
   "outputs": [
    {
     "data": {
      "text/plain": [
       "Ylm (generic function with 1 method)"
      ]
     },
     "execution_count": 5,
     "metadata": {},
     "output_type": "execute_result"
    }
   ],
   "source": [
    "function Ylm(B_lm, y_lm, l, m)\n",
    "    e_l = zeros(NBuses,1)\n",
    "    e_m = zeros(NBuses,1)\n",
    "    e_l[l], e_m[m] = 1, 1\n",
    "    \n",
    "    Y_lm = (B_lm[l,m]+y_lm[l,m])*e_l*transpose(e_m)\n",
    "end"
   ]
  },
  {
   "cell_type": "code",
   "execution_count": 6,
   "metadata": {},
   "outputs": [
    {
     "data": {
      "text/plain": [
       "3"
      ]
     },
     "execution_count": 6,
     "metadata": {},
     "output_type": "execute_result"
    }
   ],
   "source": [
    "NBuses = size(BusData,1)"
   ]
  },
  {
   "cell_type": "code",
   "execution_count": 7,
   "metadata": {},
   "outputs": [
    {
     "data": {
      "text/plain": [
       "3×3 Array{Number,2}:\n",
       " 0.218996-2.32906im  -0.0517392+1.1087im  -0.167256+1.59537im\n",
       "      0.0+0.0im             0.0+0.0im           0.0+0.0im    \n",
       "      0.0+0.0im             0.0+0.0im           0.0+0.0im    "
      ]
     },
     "execution_count": 7,
     "metadata": {},
     "output_type": "execute_result"
    }
   ],
   "source": [
    "function Y_func(i, Ybus, NBuses)\n",
    "    e_i = zeros(NBuses,1)\n",
    "    e_i[i] = 1\n",
    "    YY = e_i*transpose(e_i)*Ybus\n",
    "    return YY\n",
    "end\n",
    "Y_func(1, Ybus, NBuses)"
   ]
  },
  {
   "cell_type": "code",
   "execution_count": 8,
   "metadata": {},
   "outputs": [
    {
     "data": {
      "text/plain": [
       "3×3 Array{Number,2}:\n",
       " 0.218996-2.32906im  -0.0517392+1.1087im  -0.167256+1.59537im\n",
       "      0.0+0.0im             0.0+0.0im           0.0+0.0im    \n",
       "      0.0+0.0im             0.0+0.0im           0.0+0.0im    "
      ]
     },
     "execution_count": 8,
     "metadata": {},
     "output_type": "execute_result"
    }
   ],
   "source": [
    "Y_func_array = Matrix(NBuses,1)\n",
    "for j in 1:NBuses\n",
    "    Y_func_array[j] = Y_func(j, Ybus, NBuses)\n",
    "end\n",
    "Y_func_array[1] "
   ]
  },
  {
   "cell_type": "code",
   "execution_count": 9,
   "metadata": {},
   "outputs": [
    {
     "data": {
      "text/plain": [
       "Y_i (generic function with 1 method)"
      ]
     },
     "execution_count": 9,
     "metadata": {},
     "output_type": "execute_result"
    }
   ],
   "source": [
    "function Y_i(i, YY, NBuses)\n",
    "    e_i = zeros(NBuses,1)\n",
    "    e_i[i] = 1\n",
    "    \n",
    "    Yi = 0.5 *[[real(YY + transpose(YY)) imag(transpose(YY) - YY)]; [imag(YY - transpose(YY)) real(YY + transpose(YY))]]\n",
    "    \n",
    "    Yi_i = -0.5 *[[imag(YY + transpose(YY)) real(YY - transpose(YY))]; [real(transpose(YY) - YY) imag(YY + transpose(YY))]]\n",
    "\n",
    "    M = [[e_i*transpose(e_i) zeros(NBuses, NBuses)]; [zeros(NBuses, NBuses) e_i*transpose(e_i)]]\n",
    "    \n",
    "    return Yi, Yi_i, M\n",
    "end"
   ]
  },
  {
   "cell_type": "code",
   "execution_count": 10,
   "metadata": {},
   "outputs": [
    {
     "data": {
      "text/plain": [
       "(3, 1)"
      ]
     },
     "execution_count": 10,
     "metadata": {},
     "output_type": "execute_result"
    }
   ],
   "source": [
    "Y_i_array = Matrix(NBuses,1)\n",
    "for j in 1:NBuses\n",
    "    Y_i_array[j] = Y_i(j, Y_func_array[j], NBuses)\n",
    "end\n",
    "size(Y_i_array)"
   ]
  },
  {
   "cell_type": "code",
   "execution_count": 11,
   "metadata": {},
   "outputs": [
    {
     "data": {
      "text/plain": [
       "(6, 6)"
      ]
     },
     "execution_count": 11,
     "metadata": {},
     "output_type": "execute_result"
    }
   ],
   "source": [
    "Y_k_array = Matrix(NBuses,1)\n",
    "for j in 1:NBuses\n",
    "    Y_k_array[j] = Y_i_array[j][1]\n",
    "end\n",
    "size(Y_k_array[1])"
   ]
  },
  {
   "cell_type": "code",
   "execution_count": 12,
   "metadata": {},
   "outputs": [
    {
     "data": {
      "text/plain": [
       "6×6 Array{Float64,2}:\n",
       "  2.32906    -0.554348   -0.797684   -0.0         0.0258696   0.0836282\n",
       " -0.554348   -0.0        -0.0        -0.0258696  -0.0        -0.0      \n",
       " -0.797684   -0.0        -0.0        -0.0836282  -0.0        -0.0      \n",
       " -0.0        -0.0258696  -0.0836282   2.32906    -0.554348   -0.797684 \n",
       "  0.0258696  -0.0        -0.0        -0.554348   -0.0        -0.0      \n",
       "  0.0836282  -0.0        -0.0        -0.797684   -0.0        -0.0      "
      ]
     },
     "execution_count": 12,
     "metadata": {},
     "output_type": "execute_result"
    }
   ],
   "source": [
    "Y_ii_array = Matrix(NBuses,1)\n",
    "for j in 1:NBuses\n",
    "    Y_ii_array[j] = Y_i_array[j][2]\n",
    "end\n",
    "Y_ii_array[1]"
   ]
  },
  {
   "cell_type": "code",
   "execution_count": 13,
   "metadata": {},
   "outputs": [
    {
     "data": {
      "text/plain": [
       "6×6 Array{Float64,2}:\n",
       " 1.0  0.0  0.0  0.0  0.0  0.0\n",
       " 0.0  0.0  0.0  0.0  0.0  0.0\n",
       " 0.0  0.0  0.0  0.0  0.0  0.0\n",
       " 0.0  0.0  0.0  1.0  0.0  0.0\n",
       " 0.0  0.0  0.0  0.0  0.0  0.0\n",
       " 0.0  0.0  0.0  0.0  0.0  0.0"
      ]
     },
     "execution_count": 13,
     "metadata": {},
     "output_type": "execute_result"
    }
   ],
   "source": [
    "Y_M_array = Matrix(NBuses,1)\n",
    "for j in 1:NBuses\n",
    "    Y_M_array[j] = Y_i_array[j][3]\n",
    "end\n",
    "Y_M_array[1]"
   ]
  },
  {
   "cell_type": "code",
   "execution_count": 14,
   "metadata": {},
   "outputs": [
    {
     "data": {
      "text/plain": [
       "YY_lm (generic function with 1 method)"
      ]
     },
     "execution_count": 14,
     "metadata": {},
     "output_type": "execute_result"
    }
   ],
   "source": [
    "function YY_lm(B_lm, y_lm, l, m)\n",
    "    Y_lm = Ylm(B_lm, y_lm, l, m)\n",
    "    Y_lm_first = 0.5 *[[real(Y_lm + transpose(Y_lm)) imag(transpose(Y_lm) - Y_lm)]; [imag(Y_lm - transpose(Y_lm)) real(Y_lm + transpose(Y_lm))]]\n",
    "    \n",
    "    Y_lm_second = -0.5 *[[imag(Y_lm + transpose(Y_lm)) real(Y_lm - transpose(Y_lm))]; [real(transpose(Y_lm) - Y_lm) imag(Y_lm + transpose(Y_lm))]]\n",
    "    \n",
    "    return Y_lm_first, Y_lm_second\n",
    "end"
   ]
  },
  {
   "cell_type": "code",
   "execution_count": 15,
   "metadata": {},
   "outputs": [
    {
     "data": {
      "text/plain": [
       "6×6 Array{Float64,2}:\n",
       " 0.0         0.0258696  0.0   0.0        0.479348   0.0\n",
       " 0.0258696   0.0        0.0  -0.479348   0.0        0.0\n",
       " 0.0         0.0        0.0   0.0        0.0        0.0\n",
       " 0.0        -0.479348   0.0   0.0        0.0258696  0.0\n",
       " 0.479348    0.0        0.0   0.0258696  0.0        0.0\n",
       " 0.0         0.0        0.0   0.0        0.0        0.0"
      ]
     },
     "execution_count": 15,
     "metadata": {},
     "output_type": "execute_result"
    }
   ],
   "source": [
    "Y_lm_array = Matrix(NBuses,NBuses)\n",
    "Y_lm_conj_array = Matrix(NBuses,NBuses)\n",
    "for l in 1:NBuses\n",
    "    for m in 1:NBuses\n",
    "        if l != m\n",
    "            Y_lm_array[l,m], Y_lm_conj_array[l, m] = YY_lm(B_lm, y_lm, l, m)\n",
    "        else\n",
    "            Y_lm_array[l,m], Y_lm_conj_array[l, m] = zeros(NBuses*2, NBuses*2), zeros(NBuses*2, NBuses*2)\n",
    "        end\n",
    "    end\n",
    "end\n",
    "Y_lm_array[1,2]"
   ]
  },
  {
   "cell_type": "code",
   "execution_count": 17,
   "metadata": {},
   "outputs": [],
   "source": [
    "# Solver "
   ]
  },
  {
   "cell_type": "code",
   "execution_count": 18,
   "metadata": {},
   "outputs": [],
   "source": [
    "# Define generators - it is a bus of type 2 or 3 (type 3 is a slack bus)\n",
    "Gen_indices = Int64[]\n",
    "for i in 1:NBuses\n",
    "     if (BusData[i,:_type] == 2)||(BusData[i,:_type] == 3)\n",
    "        push!(Gen_indices, BusData[i,:bus_i])\n",
    "     end\n",
    "end\n",
    "NI =length(Gen_indices)\n",
    "\n",
    "#NBuses=max(maximum(BranchData[:,:fbus]),maximum(BranchData[:,:tbus]));\n",
    "NLines=size(BranchData,1);\n",
    "NGen=NI;\n",
    "Buses=1:NBuses;\n",
    "Lines=1:NLines;\n",
    "Gen=1:NGen;"
   ]
  },
  {
   "cell_type": "code",
   "execution_count": 19,
   "metadata": {},
   "outputs": [
    {
     "data": {
      "text/plain": [
       "1000"
      ]
     },
     "execution_count": 19,
     "metadata": {},
     "output_type": "execute_result"
    }
   ],
   "source": [
    "# limints in branch powerflow\n",
    "S_line = zeros(NBuses,NBuses)\n",
    "S_line = [0 1000 1000;\n",
    "          1000 0 60;\n",
    "          1000 60 0;]\n",
    "S_line[1,2]"
   ]
  },
  {
   "cell_type": "code",
   "execution_count": 35,
   "metadata": {},
   "outputs": [
    {
     "data": {
      "text/plain": [
       "0.11"
      ]
     },
     "execution_count": 35,
     "metadata": {},
     "output_type": "execute_result"
    }
   ],
   "source": [
    "i = 1\n",
    "Gen_cost[i, :c2]"
   ]
  },
  {
   "cell_type": "code",
   "execution_count": 30,
   "metadata": {},
   "outputs": [
    {
     "name": "stdout",
     "output_type": "stream",
     "text": [
      "----------------------------------------------------------------------------\n",
      "\tSCS v2.0.2 - Splitting Conic Solver\n",
      "\t(c) Brendan O'Donoghue, Stanford University, 2012-2017\n",
      "----------------------------------------------------------------------------\n",
      "Lin-sys: sparse-indirect, nnz in A = 412, CG tol ~ 1/iter^(2.00)\n",
      "eps = 1.00e-05, alpha = 1.50, max_iters = 5000, normalize = 1, scale = 1.00\n",
      "acceleration_lookback = 20, rho_x = 1.00e-03\n",
      "Variables n = 41, constraints m = 84\n",
      "Cones:\tprimal zero / dual free vars: 20\n",
      "\tlinear vars: 22\n",
      "\tsoc vars: 12, soc blks: 4\n",
      "\tsd vars: 30, sd blks: 3\n",
      "Setup time: 8.00e-05s\n",
      "----------------------------------------------------------------------------\n",
      " Iter | pri res | dua res | rel gap | pri obj | dua obj | kap/tau | time (s)\n",
      "----------------------------------------------------------------------------\n",
      "     0| 1.27e+20  4.48e+20  1.00e+00 -1.27e+23  1.38e+23  8.42e+22  2.02e-04 \n",
      "    80| 9.50e+00  1.53e+02  4.28e-03  1.12e+11  1.13e+11  9.65e+08  6.70e-03 \n",
      "----------------------------------------------------------------------------\n",
      "Status: Infeasible\n",
      "Timing: Solve time: 6.71e-03s\n",
      "\tLin-sys: avg # CG iterations: 10.84, avg solve time: 1.48e-05s\n",
      "\tCones: avg projection time: 2.68e-05s\n",
      "\tAcceleration: avg step time: 3.81e-05s\n",
      "----------------------------------------------------------------------------\n",
      "Certificate of primal infeasibility:\n",
      "dist(y, K*) = 5.3887e-09\n",
      "|A'y|_2 * |b|_2 = 3.8596e-06\n",
      "b'y = -1.0000\n",
      "============================================================================\n"
     ]
    },
    {
     "name": "stderr",
     "output_type": "stream",
     "text": [
      "\u001b[1m\u001b[33mWARNING: \u001b[39m\u001b[22m\u001b[33mExpression not DCP compliant. Trying to solve non-DCP compliant problems can lead to unexpected behavior.\u001b[39m\n",
      "\u001b[1m\u001b[33mWARNING: \u001b[39m\u001b[22m\u001b[33mProblem not DCP compliant: constraint 2 is not DCP\u001b[39m\n",
      "\u001b[1m\u001b[33mWARNING: \u001b[39m\u001b[22m\u001b[33mProblem status Infeasible; solution may be inaccurate.\u001b[39m\n"
     ]
    },
    {
     "data": {
      "text/plain": [
       "6×6 Array{Float64,2}:\n",
       " NaN  NaN  NaN  NaN  NaN  NaN\n",
       " NaN  NaN  NaN  NaN  NaN  NaN\n",
       " NaN  NaN  NaN  NaN  NaN  NaN\n",
       " NaN  NaN  NaN  NaN  NaN  NaN\n",
       " NaN  NaN  NaN  NaN  NaN  NaN\n",
       " NaN  NaN  NaN  NaN  NaN  NaN"
      ]
     },
     "execution_count": 30,
     "metadata": {},
     "output_type": "execute_result"
    }
   ],
   "source": [
    "W = Semidefinite(NBuses*2, NBuses*2)\n",
    "#@variable(mm, AA[1:3, 1:3], SDP)\n",
    "#@variable(mm, BB[1:2, 1:2], SDP)\n",
    "problem = minimize(sum(Gen_cost[i, :c2]*(trace(Y_k_array[i]*W) + BusData[i, :Pd])^2 + Gen_cost[i, :c1]*(trace(Y_k_array[i]*W) + BusData[i, :Pd]) + Gen_cost[i, :c0] for i in Gen_indices))\n",
    "\n",
    "\n",
    "problem.constraints = [([-(S_line[m,l])^2 trace(Y_lm_array[l,m]*W) trace(Y_lm_conj_array[l,m]*W);\n",
    "                                                     trace(Y_lm_array[l,m]*W) -1 0;\n",
    "                                                     trace(Y_lm_conj_array[l,m]*W) 0 -1]   in :SDP) for l in NBuses,  m in NBuses]\n",
    "\n",
    "#problem.constraints = [([-(S_line[m,l])^2 trace(Y_lm_array[l,m]*W) trace(Y_lm_conj_array[l,m]*W);\n",
    "#                                                     trace(Y_lm_array[l,m]*W) -1 0;\n",
    "#                                                     trace(Y_lm_conj_array[l,m]*W) 0 -1]   in :SDP) for l=1,  m=1]\n",
    "    \n",
    "\n",
    "problem.constraints += [([Gen_cost[i, :c2]*(trace(Y_k_array[i]*W)+BusData[i, :Pd])^2 -sqrt(Gen_cost[i, :c2])*(trace(Y_k_array[i]*W)+BusData[i, :Pd]);\n",
    "                                  -sqrt(Gen_cost[i, :c2])*(trace(Y_k_array[i]*W)+BusData[i, :Pd]) 1] in :SDP) for i in NBuses]\n",
    "\n",
    "problem.constraints += [trace(Y_k_array[i]*W) >= GenData[i, :Pmin] - BusData[i, :Pd] for i = 1:NBuses]\n",
    "problem.constraints += [trace(Y_k_array[i]*W) <= GenData[i, :Pmax] - BusData[i, :Pd] for i = 1:NBuses]\n",
    "problem.constraints += [trace(Y_ii_array[i]*W) >=GenData[i, :Qmin] - BusData[i, :Qd] for i = 1:NBuses]\n",
    "problem.constraints += [trace(Y_ii_array[i]*W) <= GenData[i, :Qmax] - BusData[i, :Qd] for i = 1:NBuses]\n",
    "problem.constraints += [trace(Y_M_array[i]*W) <= BusData[i, :Vmax]^2 for i = 1:NBuses]\n",
    "problem.constraints += [trace(Y_M_array[i]*W) >= BusData[i, :Vmin]^2 for i = 1:NBuses]\n",
    "\n",
    "                \n",
    "solve!(problem, SCSSolver())\n",
    "W.value"
   ]
  },
  {
   "cell_type": "code",
   "execution_count": null,
   "metadata": {},
   "outputs": [],
   "source": []
  },
  {
   "cell_type": "code",
   "execution_count": 31,
   "metadata": {},
   "outputs": [
    {
     "data": {
      "text/plain": [
       "Problem:\n",
       "minimize AbstractExpr with\n",
       "head: +\n",
       "size: (1, 1)\n",
       "sign: Convex.NoSign()\n",
       "vexity: Convex.ConvexVexity()\n",
       "\n",
       "subject to\n",
       "Constraint:\n",
       "sdp constraint\n",
       "expression: AbstractExpr with\n",
       "head: transpose\n",
       "size: (3, 3)\n",
       "sign: Convex.NoSign()\n",
       "vexity: Convex.AffineVexity()\n",
       "\n",
       "\n",
       "\t\tConstraint:\n",
       "sdp constraint\n",
       "expression: AbstractExpr with\n",
       "head: transpose\n",
       "size: (3, 3)\n",
       "sign: Convex.NoSign()\n",
       "vexity: Convex.AffineVexity()\n",
       "\n",
       "\n",
       "\t\tConstraint:\n",
       "sdp constraint\n",
       "expression: AbstractExpr with\n",
       "head: transpose\n",
       "size: (3, 3)\n",
       "sign: Convex.NoSign()\n",
       "vexity: Convex.AffineVexity()\n",
       "\n",
       "\n",
       "\t\tConstraint:\n",
       "sdp constraint\n",
       "expression: AbstractExpr with\n",
       "head: transpose\n",
       "size: (3, 3)\n",
       "sign: Convex.NoSign()\n",
       "vexity: Convex.AffineVexity()\n",
       "\n",
       "\n",
       "\t\tConstraint:\n",
       "sdp constraint\n",
       "expression: AbstractExpr with\n",
       "head: transpose\n",
       "size: (3, 3)\n",
       "sign: Convex.NoSign()\n",
       "vexity: Convex.AffineVexity()\n",
       "\n",
       "\n",
       "\t\tConstraint:\n",
       "sdp constraint\n",
       "expression: AbstractExpr with\n",
       "head: transpose\n",
       "size: (3, 3)\n",
       "sign: Convex.NoSign()\n",
       "vexity: Convex.AffineVexity()\n",
       "\n",
       "\n",
       "\t\tConstraint:\n",
       "sdp constraint\n",
       "expression: AbstractExpr with\n",
       "head: transpose\n",
       "size: (3, 3)\n",
       "sign: Convex.NoSign()\n",
       "vexity: Convex.AffineVexity()\n",
       "\n",
       "\n",
       "\t\tConstraint:\n",
       "sdp constraint\n",
       "expression: AbstractExpr with\n",
       "head: transpose\n",
       "size: (3, 3)\n",
       "sign: Convex.NoSign()\n",
       "vexity: Convex.AffineVexity()\n",
       "\n",
       "\n",
       "\t\tConstraint:\n",
       "sdp constraint\n",
       "expression: AbstractExpr with\n",
       "head: transpose\n",
       "size: (3, 3)\n",
       "sign: Convex.NoSign()\n",
       "vexity: Convex.AffineVexity()\n",
       "\n",
       "\n",
       "\t\tConstraint:\n",
       "sdp constraint\n",
       "expression: AbstractExpr with\n",
       "head: transpose\n",
       "size: (2, 2)\n",
       "sign: Convex.NoSign()\n",
       "vexity: Convex.ConvexVexity()\n",
       "\n",
       "\n",
       "\t\tConstraint:\n",
       "sdp constraint\n",
       "expression: AbstractExpr with\n",
       "head: transpose\n",
       "size: (2, 2)\n",
       "sign: Convex.NoSign()\n",
       "vexity: Convex.ConvexVexity()\n",
       "\n",
       "\n",
       "\t\tConstraint:\n",
       "sdp constraint\n",
       "expression: AbstractExpr with\n",
       "head: transpose\n",
       "size: (2, 2)\n",
       "sign: Convex.NoSign()\n",
       "vexity: Convex.ConvexVexity()\n",
       "\n",
       "\n",
       "\t\tConstraint:\n",
       ">= constraint\n",
       "lhs: AbstractExpr with\n",
       "head: sum\n",
       "size: (1, 1)\n",
       "sign: Convex.NoSign()\n",
       "vexity: Convex.AffineVexity()\n",
       "\n",
       "rhs: -100.0\n",
       "vexity: Convex.AffineVexity()\n",
       "\t\tConstraint:\n",
       ">= constraint\n",
       "lhs: AbstractExpr with\n",
       "head: sum\n",
       "size: (1, 1)\n",
       "sign: Convex.NoSign()\n",
       "vexity: Convex.AffineVexity()\n",
       "\n",
       "rhs: -100.0\n",
       "vexity: Convex.AffineVexity()\n",
       "\t\tConstraint:\n",
       ">= constraint\n",
       "lhs: AbstractExpr with\n",
       "head: sum\n",
       "size: (1, 1)\n",
       "sign: Convex.NoSign()\n",
       "vexity: Convex.AffineVexity()\n",
       "\n",
       "rhs: -95.0\n",
       "vexity: Convex.AffineVexity()\n",
       "\t\tConstraint:\n",
       "<= constraint\n",
       "lhs: AbstractExpr with\n",
       "head: sum\n",
       "size: (1, 1)\n",
       "sign: Convex.NoSign()\n",
       "vexity: Convex.AffineVexity()\n",
       "\n",
       "rhs: 890.0\n",
       "vexity: Convex.AffineVexity()\n",
       "\t\tConstraint:\n",
       "<= constraint\n",
       "lhs: AbstractExpr with\n",
       "head: sum\n",
       "size: (1, 1)\n",
       "sign: Convex.NoSign()\n",
       "vexity: Convex.AffineVexity()\n",
       "\n",
       "rhs: 90.0\n",
       "vexity: Convex.AffineVexity()\n",
       "\t\tConstraint:\n",
       "<= constraint\n",
       "lhs: AbstractExpr with\n",
       "head: sum\n",
       "size: (1, 1)\n",
       "sign: Convex.NoSign()\n",
       "vexity: Convex.AffineVexity()\n",
       "\n",
       "rhs: -95.0\n",
       "vexity: Convex.AffineVexity()\n",
       "\t\tConstraint:\n",
       ">= constraint\n",
       "lhs: AbstractExpr with\n",
       "head: sum\n",
       "size: (1, 1)\n",
       "sign: Convex.NoSign()\n",
       "vexity: Convex.AffineVexity()\n",
       "\n",
       "rhs: -340.0\n",
       "vexity: Convex.AffineVexity()\n",
       "\t\tConstraint:\n",
       ">= constraint\n",
       "lhs: AbstractExpr with\n",
       "head: sum\n",
       "size: (1, 1)\n",
       "sign: Convex.NoSign()\n",
       "vexity: Convex.AffineVexity()\n",
       "\n",
       "rhs: -190.0\n",
       "vexity: Convex.AffineVexity()\n",
       "\t\tConstraint:\n",
       ">= constraint\n",
       "lhs: AbstractExpr with\n",
       "head: sum\n",
       "size: (1, 1)\n",
       "sign: Convex.NoSign()\n",
       "vexity: Convex.AffineVexity()\n",
       "\n",
       "rhs: -350.0\n",
       "vexity: Convex.AffineVexity()\n",
       "\t\tConstraint:\n",
       "<= constraint\n",
       "lhs: AbstractExpr with\n",
       "head: sum\n",
       "size: (1, 1)\n",
       "sign: Convex.NoSign()\n",
       "vexity: Convex.AffineVexity()\n",
       "\n",
       "rhs: 260.0\n",
       "vexity: Convex.AffineVexity()\n",
       "\t\tConstraint:\n",
       "<= constraint\n",
       "lhs: AbstractExpr with\n",
       "head: sum\n",
       "size: (1, 1)\n",
       "sign: Convex.NoSign()\n",
       "vexity: Convex.AffineVexity()\n",
       "\n",
       "rhs: 110.0\n",
       "vexity: Convex.AffineVexity()\n",
       "\t\tConstraint:\n",
       "<= constraint\n",
       "lhs: AbstractExpr with\n",
       "head: sum\n",
       "size: (1, 1)\n",
       "sign: Convex.NoSign()\n",
       "vexity: Convex.AffineVexity()\n",
       "\n",
       "rhs: 250.0\n",
       "vexity: Convex.AffineVexity()\n",
       "\t\tConstraint:\n",
       "<= constraint\n",
       "lhs: AbstractExpr with\n",
       "head: sum\n",
       "size: (1, 1)\n",
       "sign: Convex.NoSign()\n",
       "vexity: Convex.AffineVexity()\n",
       "\n",
       "rhs: 1.2100000000000002\n",
       "vexity: Convex.AffineVexity()\n",
       "\t\tConstraint:\n",
       "<= constraint\n",
       "lhs: AbstractExpr with\n",
       "head: sum\n",
       "size: (1, 1)\n",
       "sign: Convex.NoSign()\n",
       "vexity: Convex.AffineVexity()\n",
       "\n",
       "rhs: 1.2100000000000002\n",
       "vexity: Convex.AffineVexity()\n",
       "\t\tConstraint:\n",
       "<= constraint\n",
       "lhs: AbstractExpr with\n",
       "head: sum\n",
       "size: (1, 1)\n",
       "sign: Convex.NoSign()\n",
       "vexity: Convex.AffineVexity()\n",
       "\n",
       "rhs: 1.2100000000000002\n",
       "vexity: Convex.AffineVexity()\n",
       "\t\tConstraint:\n",
       ">= constraint\n",
       "lhs: AbstractExpr with\n",
       "head: sum\n",
       "size: (1, 1)\n",
       "sign: Convex.NoSign()\n",
       "vexity: Convex.AffineVexity()\n",
       "\n",
       "rhs: 0.81\n",
       "vexity: Convex.AffineVexity()\n",
       "\t\tConstraint:\n",
       ">= constraint\n",
       "lhs: AbstractExpr with\n",
       "head: sum\n",
       "size: (1, 1)\n",
       "sign: Convex.NoSign()\n",
       "vexity: Convex.AffineVexity()\n",
       "\n",
       "rhs: 0.81\n",
       "vexity: Convex.AffineVexity()\n",
       "\t\tConstraint:\n",
       ">= constraint\n",
       "lhs: AbstractExpr with\n",
       "head: sum\n",
       "size: (1, 1)\n",
       "sign: Convex.NoSign()\n",
       "vexity: Convex.AffineVexity()\n",
       "\n",
       "rhs: 0.81\n",
       "vexity: Convex.AffineVexity()\n",
       "current status: not yet solved"
      ]
     },
     "execution_count": 31,
     "metadata": {},
     "output_type": "execute_result"
    }
   ],
   "source": [
    "W = Semidefinite(NBuses*2, NBuses*2)\n",
    "#@variable(mm, AA[1:3, 1:3], SDP)\n",
    "#@variable(mm, BB[1:2, 1:2], SDP)\n",
    "#problem = minimize(sum(Gen_cost[i, :c2]*(trace(Y_k_array[i]*W) + BusData[i, :Pd])^2 + Gen_cost[i, :c1]*(trace(Y_k_array[i]*W) + BusData[i, :Pd]) + Gen_cost[i, :c0] for i in Gen_indices))\n",
    "\n",
    "\n",
    "constraints = [([[-(S_line[m,l])^2 trace(Y_lm_array[l,m]*W) trace(Y_lm_conj_array[l,m]*W)];\n",
    "                 [trace(Y_lm_array[l,m]*W) -1 0];\n",
    "                 [trace(Y_lm_conj_array[l,m]*W) 0 -1]] in :SDP) for l = 1:NBuses,  m = 1:NBuses]\n",
    "\n",
    "constraints +=                [([Gen_cost[i, :c2]*(trace(Y_k_array[i]*W)+BusData[i, :Pd])^2 -sqrt(Gen_cost[i, :c2])*(trace(Y_k_array[i]*W)+BusData[i, :Pd]);\n",
    "                                                  -sqrt(Gen_cost[i, :c2])*(trace(Y_k_array[i]*W)+BusData[i, :Pd]) 1] in :SDP) for i = 1:NBuses]\n",
    "\n",
    "constraints +=                [trace(Y_k_array[i]*W) >= GenData[i, :Pmin] - BusData[i, :Pd] for i = 1:NBuses]\n",
    "constraints +=                [trace(Y_k_array[i]*W) <= GenData[i, :Pmax] - BusData[i, :Pd] for i = 1:NBuses]\n",
    "constraints +=                [trace(Y_ii_array[i]*W) >=GenData[i, :Qmin] - BusData[i, :Qd] for i = 1:NBuses]\n",
    "constraints +=                [trace(Y_ii_array[i]*W) <= GenData[i, :Qmax] - BusData[i, :Qd] for i = 1:NBuses]\n",
    "constraints +=                [trace(Y_M_array[i]*W) <= BusData[i, :Vmax]^2 for i = 1:NBuses]\n",
    "constraints +=                [trace(Y_M_array[i]*W) >= BusData[i, :Vmin]^2 for i = 1:NBuses]\n",
    "                                    \n",
    "p = minimize((sum(Gen_cost[i, :c2]*(trace(Y_k_array[i]*W) + BusData[i, :Pd])^2 + Gen_cost[i, :c1]*(trace(Y_k_array[i]*W) + BusData[i, :Pd]) + Gen_cost[i, :c0] for i in Gen_indices)),constraints)"
   ]
  },
  {
   "cell_type": "code",
   "execution_count": null,
   "metadata": {},
   "outputs": [],
   "source": []
  },
  {
   "cell_type": "code",
   "execution_count": null,
   "metadata": {},
   "outputs": [],
   "source": []
  },
  {
   "cell_type": "code",
   "execution_count": null,
   "metadata": {},
   "outputs": [],
   "source": []
  }
 ],
 "metadata": {
  "kernelspec": {
   "display_name": "Julia 0.6.4",
   "language": "julia",
   "name": "julia-0.6"
  },
  "language_info": {
   "file_extension": ".jl",
   "mimetype": "application/julia",
   "name": "julia",
   "version": "0.6.4"
  }
 },
 "nbformat": 4,
 "nbformat_minor": 2
}
